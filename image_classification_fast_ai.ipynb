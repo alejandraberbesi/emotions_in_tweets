{
  "nbformat": 4,
  "nbformat_minor": 0,
  "metadata": {
    "colab": {
      "name": "image_classification_fast_ai",
      "provenance": []
    },
    "kernelspec": {
      "name": "python3",
      "display_name": "Python 3"
    },
    "accelerator": "GPU"
  },
  "cells": [
    {
      "cell_type": "code",
      "metadata": {
        "id": "W0CMkO5rjcnr",
        "colab_type": "code",
        "colab": {}
      },
      "source": [
        "%reload_ext autoreload\n",
        "%autoreload 2\n",
        "%matplotlib inline\n"
      ],
      "execution_count": 0,
      "outputs": []
    },
    {
      "cell_type": "code",
      "metadata": {
        "id": "lXCH-Ph7Z4kW",
        "colab_type": "code",
        "colab": {}
      },
      "source": [
        "from fastai  import *\n",
        "from fastai.vision import *\n",
        "\n",
        "from \n"
      ],
      "execution_count": 0,
      "outputs": []
    }
  ]
}